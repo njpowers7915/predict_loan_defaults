{
 "cells": [
  {
   "cell_type": "markdown",
   "metadata": {},
   "source": [
    "# Predict Loan Defaults"
   ]
  },
  {
   "cell_type": "markdown",
   "metadata": {},
   "source": [
    "In this project I will build a machine learning model that can predict whether or not a borrower is able to pay off his or her loans. The data in this project comes from Lending Club which is a marketplace for personal loans that matches borrowers with investors. I will only analyze loans that were approved with a date range of 2007 - 2011 since most of the loans in this date range have already finished."
   ]
  },
  {
   "cell_type": "markdown",
   "metadata": {},
   "source": [
    "## Data Cleaning"
   ]
  },
  {
   "cell_type": "code",
   "execution_count": 118,
   "metadata": {},
   "outputs": [
    {
     "name": "stderr",
     "output_type": "stream",
     "text": [
      "/anaconda3/lib/python3.7/site-packages/IPython/core/interactiveshell.py:3020: DtypeWarning: Columns (0) have mixed types. Specify dtype option on import or set low_memory=False.\n",
      "  interactivity=interactivity, compiler=compiler, result=result)\n"
     ]
    },
    {
     "data": {
      "text/plain": [
       "52"
      ]
     },
     "execution_count": 118,
     "metadata": {},
     "output_type": "execute_result"
    }
   ],
   "source": [
    "import pandas as pd\n",
    "loan_data = pd.read_csv('loans_2007.csv')\n",
    "#Total number of columns\n",
    "loan_data.shape[1]"
   ]
  },
  {
   "cell_type": "markdown",
   "metadata": {},
   "source": [
    "In order to make this dataset more manageable, I will remove columns which:\n",
    "    1. Leak information from after the loan has already been funded\n",
    "    2. Don't affect the borrower's ability to pay back\n",
    "    3. Require additional data in order to become helpful\n",
    "    4. Redundant information\n",
    "    5. Poorly formatted and need tons of additional work to become useful\n",
    "    \n",
    "Information about each column can be found in a data dictionary [here](https://docs.google.com/spreadsheets/d/191B2yJ4H1ZPXq0_ByhUgWMFZOYem5jFz0Y3by_7YBY4/edit#gid=2081333097)."
   ]
  },
  {
   "cell_type": "code",
   "execution_count": 119,
   "metadata": {},
   "outputs": [
    {
     "data": {
      "text/plain": [
       "Index(['loan_amnt', 'term', 'int_rate', 'installment', 'emp_length',\n",
       "       'home_ownership', 'annual_inc', 'verification_status', 'loan_status',\n",
       "       'pymnt_plan', 'purpose', 'title', 'addr_state', 'dti', 'delinq_2yrs',\n",
       "       'earliest_cr_line', 'inq_last_6mths', 'open_acc', 'pub_rec',\n",
       "       'revol_bal', 'revol_util', 'total_acc', 'initial_list_status',\n",
       "       'last_credit_pull_d', 'collections_12_mths_ex_med', 'policy_code',\n",
       "       'application_type', 'acc_now_delinq', 'chargeoff_within_12_mths',\n",
       "       'delinq_amnt', 'pub_rec_bankruptcies', 'tax_liens'],\n",
       "      dtype='object')"
      ]
     },
     "execution_count": 119,
     "metadata": {},
     "output_type": "execute_result"
    }
   ],
   "source": [
    "cols_to_drop = ['id', 'member_id', 'funded_amnt', 'funded_amnt_inv',\n",
    "    'grade', 'sub_grade', 'emp_title', 'issue_d', 'zip_code', 'out_prncp',\n",
    "    'out_prncp_inv', 'total_pymnt', 'total_pymnt_inv', 'total_rec_prncp',\n",
    "    'total_rec_int', 'total_rec_late_fee', 'recoveries', 'collection_recovery_fee',\n",
    "    'last_pymnt_d', 'last_pymnt_amnt']\n",
    "loan_data = loan_data.drop(cols_to_drop, axis=1)\n",
    "loan_data.columns"
   ]
  },
  {
   "cell_type": "markdown",
   "metadata": {},
   "source": [
    "In the above code snippit I removed 20 columns which were either contained redundant information or would not be useful to the analysis. For example columns like 'grade' and 'sub_grade' were removed because they are essentially a proxy for the interest rate, which is much easier to analyze due to its continuous nature. Colums like 'total_payment' and 'out_prncp' were removed because they referenced information from after the loan had already started to be paid off. Columns like 'id' and 'member_id' were removed since they are irrelevant to a lender's ability to pay back a loan."
   ]
  },
  {
   "cell_type": "markdown",
   "metadata": {},
   "source": [
    "### Picking a target column to predict"
   ]
  },
  {
   "cell_type": "markdown",
   "metadata": {},
   "source": [
    "I will use loan_status as our target column as it tells us whether or not a loan was paid off."
   ]
  },
  {
   "cell_type": "code",
   "execution_count": 120,
   "metadata": {},
   "outputs": [
    {
     "data": {
      "text/plain": [
       "Fully Paid                                             33136\n",
       "Charged Off                                             5634\n",
       "Does not meet the credit policy. Status:Fully Paid      1988\n",
       "Current                                                  961\n",
       "Does not meet the credit policy. Status:Charged Off      761\n",
       "Late (31-120 days)                                        24\n",
       "In Grace Period                                           20\n",
       "Late (16-30 days)                                          8\n",
       "Default                                                    3\n",
       "Name: loan_status, dtype: int64"
      ]
     },
     "execution_count": 120,
     "metadata": {},
     "output_type": "execute_result"
    }
   ],
   "source": [
    "loan_data['loan_status'].value_counts()"
   ]
  },
  {
   "cell_type": "markdown",
   "metadata": {},
   "source": [
    "The text values in this column need to be converted to numerical values. Also, all loans which were not \"Fully Paid\" or \"Charged Off\" need to be removed as these two columns are the only ones which describe final outcomes. \"Fully Paid\" will then be replaced with 1 and \"Charged Off\" (meaning the loan was not paid) will be replaced with 0."
   ]
  },
  {
   "cell_type": "code",
   "execution_count": 121,
   "metadata": {},
   "outputs": [
    {
     "data": {
      "text/plain": [
       "1    33136\n",
       "0     5634\n",
       "Name: loan_status, dtype: int64"
      ]
     },
     "execution_count": 121,
     "metadata": {},
     "output_type": "execute_result"
    }
   ],
   "source": [
    "loan_data = loan_data[loan_data['loan_status'].isin(['Fully Paid', 'Charged Off'])]\n",
    "\n",
    "replace_status = {\n",
    "    \"loan_status\": {\n",
    "        \"Fully Paid\": 1,\n",
    "        \"Charged Off\": 0\n",
    "    }\n",
    "}\n",
    "\n",
    "loan_data = loan_data.replace(replace_status)\n",
    "loan_data['loan_status'].value_counts()"
   ]
  },
  {
   "cell_type": "markdown",
   "metadata": {},
   "source": [
    "As a final step in the feature selection process, I will remove any column that contains only 1 value as it provides no additional insight into whether a loan was paid off."
   ]
  },
  {
   "cell_type": "code",
   "execution_count": 122,
   "metadata": {},
   "outputs": [
    {
     "name": "stdout",
     "output_type": "stream",
     "text": [
      "Dropped Columns: \n",
      "['pymnt_plan', 'initial_list_status', 'collections_12_mths_ex_med', 'policy_code', 'application_type', 'acc_now_delinq', 'chargeoff_within_12_mths', 'delinq_amnt', 'tax_liens']\n",
      "\n",
      "\n",
      "Remaining Columns: \n"
     ]
    },
    {
     "data": {
      "text/plain": [
       "Index(['loan_amnt', 'term', 'int_rate', 'installment', 'emp_length',\n",
       "       'home_ownership', 'annual_inc', 'verification_status', 'loan_status',\n",
       "       'purpose', 'title', 'addr_state', 'dti', 'delinq_2yrs',\n",
       "       'earliest_cr_line', 'inq_last_6mths', 'open_acc', 'pub_rec',\n",
       "       'revol_bal', 'revol_util', 'total_acc', 'last_credit_pull_d',\n",
       "       'pub_rec_bankruptcies'],\n",
       "      dtype='object')"
      ]
     },
     "execution_count": 122,
     "metadata": {},
     "output_type": "execute_result"
    }
   ],
   "source": [
    "#Look for columns that contain only one unique value and remove\n",
    "loan_columns = loan_data.columns\n",
    "drop_columns = []\n",
    "for column in loan_columns:\n",
    "    non_null = loan_data[column].dropna().unique()\n",
    "    num_true_unique = len(non_null)\n",
    "    if num_true_unique == 1:\n",
    "        drop_columns.append(column)\n",
    "print('Dropped Columns: ')\n",
    "print(drop_columns)\n",
    "\n",
    "loan_data = loan_data.drop(drop_columns, axis=1)\n",
    "print('\\n')\n",
    "print('Remaining Columns: ')\n",
    "loan_data.columns"
   ]
  },
  {
   "cell_type": "markdown",
   "metadata": {},
   "source": [
    "Now that I've narrowed down the number of columns, I will inspect the columns in order to determine how to handle null values"
   ]
  },
  {
   "cell_type": "code",
   "execution_count": 123,
   "metadata": {},
   "outputs": [
    {
     "name": "stdout",
     "output_type": "stream",
     "text": [
      "loan_amnt                  0\n",
      "term                       0\n",
      "int_rate                   0\n",
      "installment                0\n",
      "emp_length              1036\n",
      "home_ownership             0\n",
      "annual_inc                 0\n",
      "verification_status        0\n",
      "loan_status                0\n",
      "purpose                    0\n",
      "title                     11\n",
      "addr_state                 0\n",
      "dti                        0\n",
      "delinq_2yrs                0\n",
      "earliest_cr_line           0\n",
      "inq_last_6mths             0\n",
      "open_acc                   0\n",
      "pub_rec                    0\n",
      "revol_bal                  0\n",
      "revol_util                50\n",
      "total_acc                  0\n",
      "last_credit_pull_d         2\n",
      "pub_rec_bankruptcies     697\n",
      "dtype: int64\n"
     ]
    }
   ],
   "source": [
    "null_counts = loan_data.isnull().sum()\n",
    "print(null_counts)"
   ]
  },
  {
   "cell_type": "markdown",
   "metadata": {},
   "source": [
    "I will further inspect the emp_length and pub_rec_bankruptcies columns since they both have a relatively high number of null values."
   ]
  },
  {
   "cell_type": "code",
   "execution_count": 124,
   "metadata": {},
   "outputs": [
    {
     "name": "stdout",
     "output_type": "stream",
     "text": [
      "emp_length value breakdown: \n",
      "10+ years    0.220454\n",
      "< 1 year     0.116766\n",
      "2 years      0.111117\n",
      "3 years      0.103843\n",
      "4 years      0.086717\n",
      "5 years      0.082770\n",
      "1 year       0.082100\n",
      "6 years      0.056255\n",
      "7 years      0.044313\n",
      "8 years      0.037245\n",
      "9 years      0.031700\n",
      "NaN          0.026722\n",
      "Name: emp_length, dtype: float64\n",
      "\n",
      "pub_rec_bankruptcies breakdown :\n",
      " 0.0    0.939438\n",
      " 1.0    0.042456\n",
      "NaN     0.017978\n",
      " 2.0    0.000129\n",
      "Name: pub_rec_bankruptcies, dtype: float64\n"
     ]
    }
   ],
   "source": [
    "print('emp_length value breakdown: ')\n",
    "print(loan_data.emp_length.value_counts(normalize=True, dropna=False))\n",
    "print('\\npub_rec_bankruptcies breakdown :')\n",
    "print(loan_data.pub_rec_bankruptcies.value_counts(normalize=True, dropna=False))"
   ]
  },
  {
   "cell_type": "markdown",
   "metadata": {},
   "source": [
    "Since emp_length (employment length) is a very important factor in assessing the riskiness of a potential borrower and the values are pretty varied, I will keep this column but remove all rows null values.  Since 94% of values for pub_rec_bankdruptcies are 0, this column will provide little predictive value so I will simply remove it.  For the remaining columns, I will remove all rows containing null values since the number of nulls is very low for each."
   ]
  },
  {
   "cell_type": "code",
   "execution_count": 125,
   "metadata": {},
   "outputs": [],
   "source": [
    "loan_data = loan_data.drop(columns=['pub_rec_bankruptcies'], axis=1)\n",
    "loan_data = loan_data.dropna(axis = 0)"
   ]
  },
  {
   "cell_type": "markdown",
   "metadata": {},
   "source": [
    "## Converting Text Columns to Numerical Values"
   ]
  },
  {
   "cell_type": "code",
   "execution_count": 126,
   "metadata": {},
   "outputs": [
    {
     "data": {
      "text/plain": [
       "object     11\n",
       "float64    10\n",
       "int64       1\n",
       "dtype: int64"
      ]
     },
     "execution_count": 126,
     "metadata": {},
     "output_type": "execute_result"
    }
   ],
   "source": [
    "loan_data.dtypes.value_counts()"
   ]
  },
  {
   "cell_type": "markdown",
   "metadata": {},
   "source": [
    "In order to make predictions with scikit-learn, object columns containing text data will need to be converted to numerical data types."
   ]
  },
  {
   "cell_type": "code",
   "execution_count": 127,
   "metadata": {},
   "outputs": [
    {
     "data": {
      "text/html": [
       "<div>\n",
       "<style scoped>\n",
       "    .dataframe tbody tr th:only-of-type {\n",
       "        vertical-align: middle;\n",
       "    }\n",
       "\n",
       "    .dataframe tbody tr th {\n",
       "        vertical-align: top;\n",
       "    }\n",
       "\n",
       "    .dataframe thead th {\n",
       "        text-align: right;\n",
       "    }\n",
       "</style>\n",
       "<table border=\"1\" class=\"dataframe\">\n",
       "  <thead>\n",
       "    <tr style=\"text-align: right;\">\n",
       "      <th></th>\n",
       "      <th>term</th>\n",
       "      <th>int_rate</th>\n",
       "      <th>emp_length</th>\n",
       "      <th>home_ownership</th>\n",
       "      <th>verification_status</th>\n",
       "      <th>purpose</th>\n",
       "      <th>title</th>\n",
       "      <th>addr_state</th>\n",
       "      <th>earliest_cr_line</th>\n",
       "      <th>revol_util</th>\n",
       "      <th>last_credit_pull_d</th>\n",
       "    </tr>\n",
       "  </thead>\n",
       "  <tbody>\n",
       "    <tr>\n",
       "      <th>0</th>\n",
       "      <td>36 months</td>\n",
       "      <td>10.65%</td>\n",
       "      <td>10+ years</td>\n",
       "      <td>RENT</td>\n",
       "      <td>Verified</td>\n",
       "      <td>credit_card</td>\n",
       "      <td>Computer</td>\n",
       "      <td>AZ</td>\n",
       "      <td>Jan-1985</td>\n",
       "      <td>83.7%</td>\n",
       "      <td>Jun-2016</td>\n",
       "    </tr>\n",
       "    <tr>\n",
       "      <th>1</th>\n",
       "      <td>60 months</td>\n",
       "      <td>15.27%</td>\n",
       "      <td>&lt; 1 year</td>\n",
       "      <td>RENT</td>\n",
       "      <td>Source Verified</td>\n",
       "      <td>car</td>\n",
       "      <td>bike</td>\n",
       "      <td>GA</td>\n",
       "      <td>Apr-1999</td>\n",
       "      <td>9.4%</td>\n",
       "      <td>Sep-2013</td>\n",
       "    </tr>\n",
       "    <tr>\n",
       "      <th>2</th>\n",
       "      <td>36 months</td>\n",
       "      <td>15.96%</td>\n",
       "      <td>10+ years</td>\n",
       "      <td>RENT</td>\n",
       "      <td>Not Verified</td>\n",
       "      <td>small_business</td>\n",
       "      <td>real estate business</td>\n",
       "      <td>IL</td>\n",
       "      <td>Nov-2001</td>\n",
       "      <td>98.5%</td>\n",
       "      <td>Jun-2016</td>\n",
       "    </tr>\n",
       "    <tr>\n",
       "      <th>3</th>\n",
       "      <td>36 months</td>\n",
       "      <td>13.49%</td>\n",
       "      <td>10+ years</td>\n",
       "      <td>RENT</td>\n",
       "      <td>Source Verified</td>\n",
       "      <td>other</td>\n",
       "      <td>personel</td>\n",
       "      <td>CA</td>\n",
       "      <td>Feb-1996</td>\n",
       "      <td>21%</td>\n",
       "      <td>Apr-2016</td>\n",
       "    </tr>\n",
       "    <tr>\n",
       "      <th>5</th>\n",
       "      <td>36 months</td>\n",
       "      <td>7.90%</td>\n",
       "      <td>3 years</td>\n",
       "      <td>RENT</td>\n",
       "      <td>Source Verified</td>\n",
       "      <td>wedding</td>\n",
       "      <td>My wedding loan I promise to pay back</td>\n",
       "      <td>AZ</td>\n",
       "      <td>Nov-2004</td>\n",
       "      <td>28.3%</td>\n",
       "      <td>Jan-2016</td>\n",
       "    </tr>\n",
       "  </tbody>\n",
       "</table>\n",
       "</div>"
      ],
      "text/plain": [
       "         term int_rate emp_length home_ownership verification_status  \\\n",
       "0   36 months   10.65%  10+ years           RENT            Verified   \n",
       "1   60 months   15.27%   < 1 year           RENT     Source Verified   \n",
       "2   36 months   15.96%  10+ years           RENT        Not Verified   \n",
       "3   36 months   13.49%  10+ years           RENT     Source Verified   \n",
       "5   36 months    7.90%    3 years           RENT     Source Verified   \n",
       "\n",
       "          purpose                                  title addr_state  \\\n",
       "0     credit_card                               Computer         AZ   \n",
       "1             car                                   bike         GA   \n",
       "2  small_business                   real estate business         IL   \n",
       "3           other                               personel         CA   \n",
       "5         wedding  My wedding loan I promise to pay back         AZ   \n",
       "\n",
       "  earliest_cr_line revol_util last_credit_pull_d  \n",
       "0         Jan-1985      83.7%           Jun-2016  \n",
       "1         Apr-1999       9.4%           Sep-2013  \n",
       "2         Nov-2001      98.5%           Jun-2016  \n",
       "3         Feb-1996        21%           Apr-2016  \n",
       "5         Nov-2004      28.3%           Jan-2016  "
      ]
     },
     "execution_count": 127,
     "metadata": {},
     "output_type": "execute_result"
    }
   ],
   "source": [
    "object_columns_df = loan_data.select_dtypes('object')\n",
    "object_columns_df.head()"
   ]
  },
  {
   "cell_type": "markdown",
   "metadata": {},
   "source": [
    "1. Analyze values of 'purpose' and 'title' columns do determine which one to drop\n",
    "2. Drop 'purpose' or 'title' in addition to addr_state, earliest_cr_line and last_credit_pulled_d\n",
    "3. Easily convert int_rate and revol_util to numeric values\n",
    "4. Get value counts for categorical columns ('home_ownership', 'verification_status', 'emp_length', 'term', and one of 'title' OR 'purpose')\n",
    "5. Convert emp_length to numerical value with a mapping dictionary\n",
    "6. Create dummy columns for remaining categorical columns "
   ]
  },
  {
   "cell_type": "code",
   "execution_count": 128,
   "metadata": {},
   "outputs": [
    {
     "name": "stdout",
     "output_type": "stream",
     "text": [
      "debt_consolidation    17751\n",
      "credit_card            4911\n",
      "other                  3711\n",
      "home_improvement       2808\n",
      "major_purchase         2083\n",
      "small_business         1719\n",
      "car                    1459\n",
      "wedding                 916\n",
      "medical                 655\n",
      "moving                  552\n",
      "house                   356\n",
      "vacation                348\n",
      "educational             312\n",
      "renewable_energy         94\n",
      "Name: purpose, dtype: int64\n",
      "\n",
      "\n",
      "Debt Consolidation                          2068\n",
      "Debt Consolidation Loan                     1599\n",
      "Personal Loan                                624\n",
      "Consolidation                                488\n",
      "debt consolidation                           466\n",
      "Credit Card Consolidation                    345\n",
      "Home Improvement                             336\n",
      "Debt consolidation                           314\n",
      "Small Business Loan                          298\n",
      "Credit Card Loan                             294\n",
      "Personal                                     290\n",
      "Consolidation Loan                           250\n",
      "Home Improvement Loan                        228\n",
      "personal loan                                219\n",
      "Loan                                         202\n",
      "Wedding Loan                                 199\n",
      "personal                                     198\n",
      "Car Loan                                     188\n",
      "consolidation                                186\n",
      "Other Loan                                   168\n",
      "Wedding                                      148\n",
      "Credit Card Payoff                           144\n",
      "Credit Card Refinance                        140\n",
      "Major Purchase Loan                          131\n",
      "Consolidate                                  124\n",
      "Medical                                      111\n",
      "Credit Card                                  110\n",
      "home improvement                             101\n",
      "Credit Cards                                  91\n",
      "My Loan                                       90\n",
      "                                            ... \n",
      "Fencing Property                               1\n",
      "to buy property                                1\n",
      "getting help                                   1\n",
      "pool liner                                     1\n",
      "Reconsolidation Loan                           1\n",
      "Solving the Catch 22: Foreclosure Fix Up       1\n",
      "pay my bills and I will pay you back           1\n",
      "Tommy                                          1\n",
      "$2400 Loan Needed                              1\n",
      "Nissan                                         1\n",
      "KRAM_LendingClub                               1\n",
      "piano                                          1\n",
      "Patty Newell                                   1\n",
      "Trying to Avoid Paying PMI on New Home         1\n",
      "BA Visa Refinance                              1\n",
      "Wedding Ring Consolidation                     1\n",
      "Debt Consolidation for 2 yr plan               1\n",
      "Angie's Loan                                   1\n",
      "x1                                             1\n",
      "I hate credit cards                            1\n",
      "Payoff HELOC to refi house                     1\n",
      "The lower my stress loan                       1\n",
      "Payoff my wife's credit card                   1\n",
      "Existing Loan payoff                           1\n",
      "Auto Loan Difference                           1\n",
      "Automobile Loan                                1\n",
      "MsResponsibility                               1\n",
      "Consolidation CC                               1\n",
      "2nd Consolidation Loan                         1\n",
      "Debt Free 2010                                 1\n",
      "Name: title, Length: 18881, dtype: int64\n",
      "\n",
      "\n"
     ]
    }
   ],
   "source": [
    "#1. Analyze values of 'purpose' and 'title' columns do determine which one to drop\n",
    "for column in ['purpose', 'title']:\n",
    "    print(loan_data[column].value_counts())\n",
    "    print('\\n')"
   ]
  },
  {
   "cell_type": "markdown",
   "metadata": {},
   "source": [
    "We will keep 'purpose' as the data is much easier to work with. We will drop 'title' in addition to addr_state, earliest_cr_line and last_credit_pulled_d. Addr_state refers to the borrower's state of residence which is difficult to quantify as a dummy variable since there are 50 potential values. We will also drop the two date coumns since they would require a lot of additional manipulation to benefit our analysis."
   ]
  },
  {
   "cell_type": "code",
   "execution_count": 129,
   "metadata": {},
   "outputs": [
    {
     "name": "stdout",
     "output_type": "stream",
     "text": [
      "RENT        18112\n",
      "MORTGAGE    16686\n",
      "OWN          2778\n",
      "OTHER          96\n",
      "NONE            3\n",
      "Name: home_ownership, dtype: int64\n",
      "\n",
      "\n",
      "Not Verified       16281\n",
      "Verified           11856\n",
      "Source Verified     9538\n",
      "Name: verification_status, dtype: int64\n",
      "\n",
      "\n",
      "10+ years    8545\n",
      "< 1 year     4513\n",
      "2 years      4303\n",
      "3 years      4022\n",
      "4 years      3353\n",
      "5 years      3202\n",
      "1 year       3176\n",
      "6 years      2177\n",
      "7 years      1714\n",
      "8 years      1442\n",
      "9 years      1228\n",
      "Name: emp_length, dtype: int64\n",
      "\n",
      "\n",
      " 36 months    28234\n",
      " 60 months     9441\n",
      "Name: term, dtype: int64\n",
      "\n",
      "\n"
     ]
    }
   ],
   "source": [
    "#2. Drop 'title' in addition to addr_state, earliest_cr_line and last_credit_pulled_d\n",
    "loan_data = loan_data.drop(columns=['title', 'addr_state', 'earliest_cr_line', 'last_credit_pull_d'])\n",
    "\n",
    "#3. Easily convert int_rate and revol_util to numeric values\n",
    "loan_data[\"int_rate\"] = loan_data[\"int_rate\"].str.rstrip(\"%\").astype(\"float\")\n",
    "loan_data[\"revol_util\"] = loan_data[\"revol_util\"].str.rstrip(\"%\").astype(\"float\")\n",
    "\n",
    "#4. Get value counts for categorical columns. Will leave out 'purpose' because we already have these values\n",
    "categorical_cols = ['home_ownership', 'verification_status', 'emp_length', 'term']\n",
    "for column in categorical_cols:\n",
    "    print(loan_data[column].value_counts())\n",
    "    print('\\n')"
   ]
  },
  {
   "cell_type": "code",
   "execution_count": 130,
   "metadata": {},
   "outputs": [
    {
     "name": "stdout",
     "output_type": "stream",
     "text": [
      "Index(['loan_amnt', 'int_rate', 'installment', 'emp_length', 'annual_inc',\n",
      "       'loan_status', 'dti', 'delinq_2yrs', 'inq_last_6mths', 'open_acc',\n",
      "       'pub_rec', 'revol_bal', 'revol_util', 'total_acc',\n",
      "       'home_ownership_MORTGAGE', 'home_ownership_NONE',\n",
      "       'home_ownership_OTHER', 'home_ownership_OWN', 'home_ownership_RENT',\n",
      "       'verification_status_Not Verified',\n",
      "       'verification_status_Source Verified', 'verification_status_Verified',\n",
      "       'purpose_car', 'purpose_credit_card', 'purpose_debt_consolidation',\n",
      "       'purpose_educational', 'purpose_home_improvement', 'purpose_house',\n",
      "       'purpose_major_purchase', 'purpose_medical', 'purpose_moving',\n",
      "       'purpose_other', 'purpose_renewable_energy', 'purpose_small_business',\n",
      "       'purpose_vacation', 'purpose_wedding', 'term_ 36 months',\n",
      "       'term_ 60 months'],\n",
      "      dtype='object')\n"
     ]
    }
   ],
   "source": [
    "#5. Convert emp_length to numerical values with a mapping dictionary\n",
    "mapping_dict = {\n",
    "    \"emp_length\": {\n",
    "        \"10+ years\": 10,\n",
    "        \"9 years\": 9,\n",
    "        \"8 years\": 8,\n",
    "        \"7 years\": 7,\n",
    "        \"6 years\": 6,\n",
    "        \"5 years\": 5,\n",
    "        \"4 years\": 4,\n",
    "        \"3 years\": 3,\n",
    "        \"2 years\": 2,\n",
    "        \"1 year\": 1,\n",
    "        \"< 1 year\": 0,\n",
    "        \"n/a\": 0\n",
    "    }\n",
    "}\n",
    "loan_data = loan_data.replace(mapping_dict)\n",
    "\n",
    "#6. Create dummy columns for remaining categorical columns\n",
    "dummy_df = pd.get_dummies(loan_data[['home_ownership', 'verification_status',\n",
    "    'purpose', 'term']])\n",
    "#Merge dummy_df with original df and drop the original categorical columns \n",
    "loan_data = pd.concat([loan_data, dummy_df], axis=1).drop(\n",
    "    columns=['home_ownership', 'verification_status', 'purpose', 'term'])\n",
    "print(loan_data.columns)"
   ]
  },
  {
   "cell_type": "code",
   "execution_count": 136,
   "metadata": {},
   "outputs": [
    {
     "data": {
      "text/html": [
       "<div>\n",
       "<style scoped>\n",
       "    .dataframe tbody tr th:only-of-type {\n",
       "        vertical-align: middle;\n",
       "    }\n",
       "\n",
       "    .dataframe tbody tr th {\n",
       "        vertical-align: top;\n",
       "    }\n",
       "\n",
       "    .dataframe thead th {\n",
       "        text-align: right;\n",
       "    }\n",
       "</style>\n",
       "<table border=\"1\" class=\"dataframe\">\n",
       "  <thead>\n",
       "    <tr style=\"text-align: right;\">\n",
       "      <th></th>\n",
       "      <th>loan_amnt</th>\n",
       "      <th>int_rate</th>\n",
       "      <th>installment</th>\n",
       "      <th>emp_length</th>\n",
       "      <th>annual_inc</th>\n",
       "      <th>loan_status</th>\n",
       "      <th>dti</th>\n",
       "      <th>delinq_2yrs</th>\n",
       "      <th>inq_last_6mths</th>\n",
       "      <th>open_acc</th>\n",
       "      <th>...</th>\n",
       "      <th>purpose_major_purchase</th>\n",
       "      <th>purpose_medical</th>\n",
       "      <th>purpose_moving</th>\n",
       "      <th>purpose_other</th>\n",
       "      <th>purpose_renewable_energy</th>\n",
       "      <th>purpose_small_business</th>\n",
       "      <th>purpose_vacation</th>\n",
       "      <th>purpose_wedding</th>\n",
       "      <th>term_ 36 months</th>\n",
       "      <th>term_ 60 months</th>\n",
       "    </tr>\n",
       "  </thead>\n",
       "  <tbody>\n",
       "    <tr>\n",
       "      <th>0</th>\n",
       "      <td>5000.0</td>\n",
       "      <td>10.65</td>\n",
       "      <td>162.87</td>\n",
       "      <td>10</td>\n",
       "      <td>24000.0</td>\n",
       "      <td>1</td>\n",
       "      <td>27.65</td>\n",
       "      <td>0.0</td>\n",
       "      <td>1.0</td>\n",
       "      <td>3.0</td>\n",
       "      <td>...</td>\n",
       "      <td>0</td>\n",
       "      <td>0</td>\n",
       "      <td>0</td>\n",
       "      <td>0</td>\n",
       "      <td>0</td>\n",
       "      <td>0</td>\n",
       "      <td>0</td>\n",
       "      <td>0</td>\n",
       "      <td>1</td>\n",
       "      <td>0</td>\n",
       "    </tr>\n",
       "    <tr>\n",
       "      <th>1</th>\n",
       "      <td>2500.0</td>\n",
       "      <td>15.27</td>\n",
       "      <td>59.83</td>\n",
       "      <td>0</td>\n",
       "      <td>30000.0</td>\n",
       "      <td>0</td>\n",
       "      <td>1.00</td>\n",
       "      <td>0.0</td>\n",
       "      <td>5.0</td>\n",
       "      <td>3.0</td>\n",
       "      <td>...</td>\n",
       "      <td>0</td>\n",
       "      <td>0</td>\n",
       "      <td>0</td>\n",
       "      <td>0</td>\n",
       "      <td>0</td>\n",
       "      <td>0</td>\n",
       "      <td>0</td>\n",
       "      <td>0</td>\n",
       "      <td>0</td>\n",
       "      <td>1</td>\n",
       "    </tr>\n",
       "    <tr>\n",
       "      <th>2</th>\n",
       "      <td>2400.0</td>\n",
       "      <td>15.96</td>\n",
       "      <td>84.33</td>\n",
       "      <td>10</td>\n",
       "      <td>12252.0</td>\n",
       "      <td>1</td>\n",
       "      <td>8.72</td>\n",
       "      <td>0.0</td>\n",
       "      <td>2.0</td>\n",
       "      <td>2.0</td>\n",
       "      <td>...</td>\n",
       "      <td>0</td>\n",
       "      <td>0</td>\n",
       "      <td>0</td>\n",
       "      <td>0</td>\n",
       "      <td>0</td>\n",
       "      <td>1</td>\n",
       "      <td>0</td>\n",
       "      <td>0</td>\n",
       "      <td>1</td>\n",
       "      <td>0</td>\n",
       "    </tr>\n",
       "    <tr>\n",
       "      <th>3</th>\n",
       "      <td>10000.0</td>\n",
       "      <td>13.49</td>\n",
       "      <td>339.31</td>\n",
       "      <td>10</td>\n",
       "      <td>49200.0</td>\n",
       "      <td>1</td>\n",
       "      <td>20.00</td>\n",
       "      <td>0.0</td>\n",
       "      <td>1.0</td>\n",
       "      <td>10.0</td>\n",
       "      <td>...</td>\n",
       "      <td>0</td>\n",
       "      <td>0</td>\n",
       "      <td>0</td>\n",
       "      <td>1</td>\n",
       "      <td>0</td>\n",
       "      <td>0</td>\n",
       "      <td>0</td>\n",
       "      <td>0</td>\n",
       "      <td>1</td>\n",
       "      <td>0</td>\n",
       "    </tr>\n",
       "    <tr>\n",
       "      <th>5</th>\n",
       "      <td>5000.0</td>\n",
       "      <td>7.90</td>\n",
       "      <td>156.46</td>\n",
       "      <td>3</td>\n",
       "      <td>36000.0</td>\n",
       "      <td>1</td>\n",
       "      <td>11.20</td>\n",
       "      <td>0.0</td>\n",
       "      <td>3.0</td>\n",
       "      <td>9.0</td>\n",
       "      <td>...</td>\n",
       "      <td>0</td>\n",
       "      <td>0</td>\n",
       "      <td>0</td>\n",
       "      <td>0</td>\n",
       "      <td>0</td>\n",
       "      <td>0</td>\n",
       "      <td>0</td>\n",
       "      <td>1</td>\n",
       "      <td>1</td>\n",
       "      <td>0</td>\n",
       "    </tr>\n",
       "  </tbody>\n",
       "</table>\n",
       "<p>5 rows × 38 columns</p>\n",
       "</div>"
      ],
      "text/plain": [
       "   loan_amnt  int_rate  installment  emp_length  annual_inc  loan_status  \\\n",
       "0     5000.0     10.65       162.87          10     24000.0            1   \n",
       "1     2500.0     15.27        59.83           0     30000.0            0   \n",
       "2     2400.0     15.96        84.33          10     12252.0            1   \n",
       "3    10000.0     13.49       339.31          10     49200.0            1   \n",
       "5     5000.0      7.90       156.46           3     36000.0            1   \n",
       "\n",
       "     dti  delinq_2yrs  inq_last_6mths  open_acc       ...         \\\n",
       "0  27.65          0.0             1.0       3.0       ...          \n",
       "1   1.00          0.0             5.0       3.0       ...          \n",
       "2   8.72          0.0             2.0       2.0       ...          \n",
       "3  20.00          0.0             1.0      10.0       ...          \n",
       "5  11.20          0.0             3.0       9.0       ...          \n",
       "\n",
       "   purpose_major_purchase  purpose_medical  purpose_moving  purpose_other  \\\n",
       "0                       0                0               0              0   \n",
       "1                       0                0               0              0   \n",
       "2                       0                0               0              0   \n",
       "3                       0                0               0              1   \n",
       "5                       0                0               0              0   \n",
       "\n",
       "   purpose_renewable_energy  purpose_small_business  purpose_vacation  \\\n",
       "0                         0                       0                 0   \n",
       "1                         0                       0                 0   \n",
       "2                         0                       1                 0   \n",
       "3                         0                       0                 0   \n",
       "5                         0                       0                 0   \n",
       "\n",
       "   purpose_wedding  term_ 36 months  term_ 60 months  \n",
       "0                0                1                0  \n",
       "1                0                0                1  \n",
       "2                0                1                0  \n",
       "3                0                1                0  \n",
       "5                1                1                0  \n",
       "\n",
       "[5 rows x 38 columns]"
      ]
     },
     "execution_count": 136,
     "metadata": {},
     "output_type": "execute_result"
    }
   ],
   "source": [
    "loan_data.head()"
   ]
  },
  {
   "cell_type": "markdown",
   "metadata": {},
   "source": [
    "# Making predictions"
   ]
  },
  {
   "cell_type": "markdown",
   "metadata": {},
   "source": [
    "Before I start predicting whether or not a borrower can pay off their loan on time, I will select an error metric in order to determine how well the model is performing. Since the overall goal of a lender is to make money, I want my model to limit false positives (losing money by funding a loan that isn't paid) and to limit false negatives (losing money by not funding a loan that would have been paid).  Most lenders would put more of a negative weight on false positives since its a lower risk to fund fewer loans and miss out on some potential opportunities versus funding a high number of loans and actually lose money on ones that won't get paid back."
   ]
  },
  {
   "cell_type": "code",
   "execution_count": 131,
   "metadata": {},
   "outputs": [],
   "source": [
    "def calculate_error_metrics(predictions, target):\n",
    "    true_pos = len(predictions[(predictions == 1) & (target == 1)])\n",
    "    false_pos = len(predictions[(predictions == 1) & (target == 0)])\n",
    "    true_neg = len(predictions[(predictions == 0) & (target == 0)])\n",
    "    false_neg = len(predictions[(predictions == 0) & (target == 1)])\n",
    "    \n",
    "    #Want to minimize these\n",
    "    false_pos_rate = (false_pos / (false_pos + true_neg))\n",
    "    false_neg_rate = (false_neg / (false_neg + true_pos))\n",
    "    \n",
    "    #Want to maximize these\n",
    "    true_pos_rate = (true_pos / (true_pos + false_neg))\n",
    "    true_neg_rate = (true_neg / (true_neg + false_pos))\n",
    "    \n",
    "    print('False Positive Rate: ' + str(false_pos_rate) + '\\n')\n",
    "    print('False Negative Rate: ' + str(false_neg_rate) + '\\n')\n",
    "    print('True Positive Rate: ' + str(true_pos_rate) + '\\n')\n",
    "    print('True Negative Rate: ' + str(true_neg_rate) + '\\n')"
   ]
  },
  {
   "cell_type": "code",
   "execution_count": 133,
   "metadata": {
    "scrolled": true
   },
   "outputs": [
    {
     "name": "stdout",
     "output_type": "stream",
     "text": [
      "False Positive Rate: 0.9986179664363277\n",
      "\n",
      "False Negative Rate: 0.0015731515469323545\n",
      "\n",
      "True Positive Rate: 0.9984268484530676\n",
      "\n",
      "True Negative Rate: 0.0013820335636722605\n",
      "\n"
     ]
    }
   ],
   "source": [
    "# import warnings filter\n",
    "from warnings import simplefilter\n",
    "# ignore all future warnings\n",
    "simplefilter(action='ignore', category=FutureWarning)\n",
    "\n",
    "from sklearn.linear_model import LogisticRegression\n",
    "from sklearn.model_selection import cross_val_predict\n",
    "\n",
    "lr = LogisticRegression()\n",
    "feature_columns = loan_data.columns.drop('loan_status')\n",
    "features = loan_data[feature_columns]\n",
    "target = loan_data['loan_status']\n",
    "\n",
    "#Make predictions using 3-fold cross-validation\n",
    "predictions = cross_val_predict(lr, features, target, cv=3)\n",
    "#print(pd.Series(predictions))\n",
    "predictions = pd.Series(predictions)\n",
    "\n",
    "#Calculate Error Metrics\n",
    "calculate_error_metrics(predictions, target)"
   ]
  },
  {
   "cell_type": "markdown",
   "metadata": {},
   "source": [
    "Although the model was very accurate in predicting loans that would be paid off, it was wildly inaccurate in predicting loans that would be result in a default. As we can see below, part of the reason for this is because there are significantly more loans that were paid off (85.7%) in comparison to loans that resulted in a default (14.3%)."
   ]
  },
  {
   "cell_type": "code",
   "execution_count": 134,
   "metadata": {},
   "outputs": [
    {
     "name": "stdout",
     "output_type": "stream",
     "text": [
      "1    0.856961\n",
      "0    0.143039\n",
      "Name: loan_status, dtype: float64\n"
     ]
    }
   ],
   "source": [
    "print(loan_data['loan_status'].value_counts(normalize=True))"
   ]
  },
  {
   "cell_type": "markdown",
   "metadata": {},
   "source": [
    "One way to update this model would be to set weights that place a heavy peanalty on incorrectly predicting defaults.  Since there are about 6 times as many 1s as 0s in the loan_status column, I will make the penalty 6 times greater for incorrectly predicting a default versus incorrectly predicting a loan that was paid off."
   ]
  },
  {
   "cell_type": "code",
   "execution_count": 138,
   "metadata": {},
   "outputs": [
    {
     "name": "stdout",
     "output_type": "stream",
     "text": [
      "False Positive Rate: 0.2252714708785785\n",
      "\n",
      "False Negative Rate: 0.7721224436287363\n",
      "\n",
      "True Positive Rate: 0.22787755637126378\n",
      "\n",
      "True Negative Rate: 0.7747285291214215\n",
      "\n"
     ]
    }
   ],
   "source": [
    "penalty = { \n",
    "    0: 10,\n",
    "    1: 1 \n",
    "}\n",
    "lr = LogisticRegression(class_weight=penalty)\n",
    "#Make predictions using 3-fold cross-validation\n",
    "predictions = cross_val_predict(lr, features, target, cv=3)\n",
    "predictions = pd.Series(predictions)\n",
    "\n",
    "#Calculate Error Metrics\n",
    "calculate_error_metrics(predictions, target)"
   ]
  },
  {
   "cell_type": "markdown",
   "metadata": {},
   "source": [
    "## Conclusion"
   ]
  },
  {
   "cell_type": "markdown",
   "metadata": {},
   "source": [
    "We can see that placing penalties on incorrectly predicting defaults can have a beneficial impact on the accuracy of our model. There is, however, a lot more we can do to further improve the accuracy of our predictions. One option would be to try other models like a Random Forest which are better suited for data that doesn't necessarily follow a linear relationship. Another way in which we can improve this model is to run a more in-depth analysis of the feature columns in order to figure out which factors are strongly correlated with predicting a default."
   ]
  },
  {
   "cell_type": "markdown",
   "metadata": {},
   "source": [
    "## To Do...Fine tune feature selection "
   ]
  },
  {
   "cell_type": "code",
   "execution_count": null,
   "metadata": {},
   "outputs": [],
   "source": []
  }
 ],
 "metadata": {
  "kernelspec": {
   "display_name": "Python 3",
   "language": "python",
   "name": "python3"
  },
  "language_info": {
   "codemirror_mode": {
    "name": "ipython",
    "version": 3
   },
   "file_extension": ".py",
   "mimetype": "text/x-python",
   "name": "python",
   "nbconvert_exporter": "python",
   "pygments_lexer": "ipython3",
   "version": "3.7.2"
  }
 },
 "nbformat": 4,
 "nbformat_minor": 2
}
